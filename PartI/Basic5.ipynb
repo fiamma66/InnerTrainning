{
 "cells": [
  {
   "cell_type": "markdown",
   "metadata": {},
   "source": [
    "# Python Lab 1"
   ]
  },
  {
   "cell_type": "markdown",
   "metadata": {},
   "source": [
    "到這裡為止，就是大致上的Python的基礎運用\n",
    "\n",
    "下面我們就以實際例子來做幾個 Lab"
   ]
  },
  {
   "cell_type": "markdown",
   "metadata": {},
   "source": [
    "## Lab 1"
   ]
  },
  {
   "attachments": {},
   "cell_type": "markdown",
   "metadata": {},
   "source": [
    "在 `file` 下有個 `pwd_list.xlsx`\n",
    "\n",
    "裡面大概是這樣\n",
    "\n",
    "| account | jdbc_string | password | base64_pwd\n",
    "| -- | -- | -- | --\n",
    "P_LOAD_CSP | jdbc:teradata://10.68.64.168/TMODE=TERA,CHARSET=ASCII,CLIENT_CHARSET=MS950,LOB_SUPPORT=OFF | 50D85DAC17DFE8F9C868BB588DD3799F | b2RzcHN0YWdlY3NwIA==\n",
    "DAS2CRMODS | jdbc:sqlserver://10.140.0.2:1433;useUnicode=true;characterEncoding=UTF-8 | A9E27EB342A4852D08AEB6EC9CEB4DF9 | disxMjM0NTY=\n",
    "\n",
    "\n",
    "這個檔案是 Trinity 的 Connection XML 解析出來的欄位\n",
    "\n",
    "其中包含\n",
    "\n",
    "1. Account 帳號\n",
    "2. JDBC String\n",
    "3. Password (編碼過)\n",
    "4. Base64_pwd (以 Base64 編碼的密碼)\n",
    "\n",
    "\n",
    "<b><font size=4> `請把 Base64_pwd 欄位的所有值解碼回正常的密碼` </font></b>\n",
    "\n",
    "\n",
    "````{note}\n",
    "Base64 編碼是可以被解碼的\n",
    "\n",
    "Python 自帶的 Lib 中，有 Base64編、解碼的 Library\n",
    "\n",
    "```{caution}\n",
    "使用上請注意 Base64 解碼與編碼， 都必須使用位元 （Byte Object）\n",
    "```\n",
    "````"
   ]
  },
  {
   "cell_type": "markdown",
   "metadata": {},
   "source": [
    "### Lab 1 參考"
   ]
  },
  {
   "cell_type": "code",
   "execution_count": null,
   "metadata": {
    "tags": [
     "hide-cell"
    ]
   },
   "outputs": [],
   "source": [
    "import pandas as pd\n",
    "import base64\n",
    "\n",
    "\n",
    "df = pd.read_excel('file/pwd_list.xlsx', engine='openpyxl')\n",
    "\n",
    "df['real_pwd'] = df['base64_pwd'].apply(lambda x: base64.b64decode(x.encode('ascii')).decode('ascii'))\n",
    "\n",
    "df.to_excel('file/pwd_list_ANSWER.xlsx', index=False)"
   ]
  },
  {
   "cell_type": "markdown",
   "metadata": {},
   "source": [
    "## Lab 1.5\n",
    "\n",
    "你如果想問\n",
    "\n",
    "啊 ！ password 這個欄位資料要做什麼用？\n",
    "\n",
    "<s> 現在要用到了 </s>\n",
    "\n",
    "你可以在 `./bin/` 下找到 `decode.jar` 這是一個解碼的 JAR 檔\n",
    "\n",
    "<b><font size=4> `現在，請把 password 所有值，當成參數給這個 JAR 來執行，並再輸出一個報表` </font></b>\n",
    "\n",
    "我們這邊要透過 Subprocess 來使用 JAR 檔，並透過 Standard Output 來交換資料\n",
    "\n",
    "````{admonition} Subprocess Library\n",
    "Python 有內建 Subprocess Library\n",
    "\n",
    "並且可以重新導向 `Standard Output` & `Standard Error`\n",
    "\n",
    "直接使用（將 External Command 拆成數個 String）\n",
    "\n",
    "```python\n",
    "import subprocess\n",
    "\n",
    "\n",
    "command = ['java',\n",
    "           '-jar',\n",
    "           './bin/decode.jar',\n",
    "           'F3A5806FF36F36D96C1F8E4310F6ECC0'\n",
    "           ]\n",
    "           \n",
    "process = subprocess.Popen(command , universal_newlines=True, stdout=subprocess.PIPE, bufsize=1)\n",
    "\n",
    "std = process.communicate()\n",
    "\n",
    "std\n",
    "\n",
    "````\n",
    "\n",
    "```{caution}\n",
    "你應該有發現，不論是 Base64 Password 和 Password 都有重複值的問題吧！\n",
    "\n",
    "因為我們接下來要透過 Subprocess Call Java\n",
    "\n",
    "我們應該要先 Distinct Password 來增加效能 ！\n",
    "```"
   ]
  },
  {
   "cell_type": "markdown",
   "metadata": {},
   "source": [
    "### Lab 1.5 參考"
   ]
  },
  {
   "cell_type": "markdown",
   "metadata": {
    "collapsed": true,
    "tags": [
     "hide-output",
     "hide-input"
    ]
   },
   "source": [
    "````{admonition} 請參考\n",
    ":class: dropdown\n",
    "\n",
    "```python\n",
    "import subprocess\n",
    "\n",
    "\n",
    "df = pd.read_excel('file/pwd_list.xlsx', engine='openpyxl')\n",
    "\n",
    "pwd_set = set()\n",
    "pwd_dict = {}\n",
    "\n",
    "for pwd in df['password']:\n",
    "    pwd_set.add(pwd)\n",
    "\n",
    "for pwd in pwd_set:\n",
    "    \n",
    "    command = ['java',\n",
    "               '-jar',\n",
    "               './bin/decode.jar',\n",
    "               '{}'.format(pwd)\n",
    "               ]\n",
    "    print('現在解碼 : {}'.format(pwd))\n",
    "    \n",
    "    process = subprocess.Popen(command , universal_newlines=True, stdout=subprocess.PIPE, bufsize=1)\n",
    "\n",
    "    std = process.communicate()\n",
    "    \n",
    "    pwd_dict[pwd] = std[0].replace('\\n', '')\n",
    "\n",
    "\n",
    "\n",
    "df['java_pwd'] = df['password'].apply(lambda x: pwd_dict.get(x))\n",
    "\n",
    "df.to_excel('file/pwd_list_ANSWER.xlsx', index=False)\n",
    "```\n",
    "````"
   ]
  }
 ],
 "metadata": {
  "celltoolbar": "Edit Metadata",
  "jupytext": {
   "cell_metadata_filter": "hide_output",
   "formats": "md:myst,ipynb"
  },
  "kernelspec": {
   "display_name": "Python 3",
   "language": "python",
   "name": "python3"
  },
  "language_info": {
   "codemirror_mode": {
    "name": "ipython",
    "version": 3
   },
   "file_extension": ".py",
   "mimetype": "text/x-python",
   "name": "python",
   "nbconvert_exporter": "python",
   "pygments_lexer": "ipython3",
   "version": "3.9.4"
  },
  "toc": {
   "base_numbering": 1,
   "nav_menu": {},
   "number_sections": true,
   "sideBar": true,
   "skip_h1_title": false,
   "title_cell": "Table of Contents",
   "title_sidebar": "Contents",
   "toc_cell": false,
   "toc_position": {},
   "toc_section_display": true,
   "toc_window_display": true
  },
  "varInspector": {
   "cols": {
    "lenName": 16,
    "lenType": 16,
    "lenVar": 40
   },
   "kernels_config": {
    "python": {
     "delete_cmd_postfix": "",
     "delete_cmd_prefix": "del ",
     "library": "var_list.py",
     "varRefreshCmd": "print(var_dic_list())"
    },
    "r": {
     "delete_cmd_postfix": ") ",
     "delete_cmd_prefix": "rm(",
     "library": "var_list.r",
     "varRefreshCmd": "cat(var_dic_list()) "
    }
   },
   "types_to_exclude": [
    "module",
    "function",
    "builtin_function_or_method",
    "instance",
    "_Feature"
   ],
   "window_display": false
  }
 },
 "nbformat": 4,
 "nbformat_minor": 4
}
