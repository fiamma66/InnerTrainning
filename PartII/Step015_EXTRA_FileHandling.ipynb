{
 "cells": [
  {
   "cell_type": "markdown",
   "metadata": {},
   "source": [
    "# STEP 015 EXTRA File Handling\n",
    "\n",
    "\n",
    "<font size=5> **這邊我們使用 `Pathlib`** </font>\n",
    "\n",
    "\n",
    "```{admonition} 你猜得沒錯\n",
    "\n",
    "這邊我們雖然使用 **Pathlib**\n",
    "但其實還有 **os**\n",
    "我自己的習慣上 使用 Pathlib 而已\n",
    "\n",
    "```"
   ]
  },
  {
   "cell_type": "markdown",
   "metadata": {},
   "source": [
    "------------------\n",
    "\n",
    "<font size=\"5\"> **目錄** </font>\n",
    "\n",
    "\n",
    "\n",
    "[1.1 簡單使用](#簡單使用Pathlib)\n",
    "\n",
    "\n",
    "&nbsp;&nbsp;&nbsp;[▲ 傳入路徑字串](#傳入路徑字串)\n",
    "\n",
    "\n",
    "&nbsp;&nbsp;&nbsp;[▲ 絕對路徑 / 家目錄](#絕對路徑-/-家目錄)\n",
    "\n",
    "\n",
    "&nbsp;&nbsp;&nbsp;[▲ 路徑串接](#路徑串接)\n",
    "\n",
    "\n",
    "&nbsp;&nbsp;&nbsp;[▲ 建資料夾](#MakeDir)\n",
    "\n",
    "\n",
    "[1.2 Glob 特定 Pattern 撈取 大量 Files ](#Glob-抓取-File-Pattern)\n",
    "\n",
    "\n",
    "&nbsp;&nbsp;&nbsp;&nbsp;&nbsp;&nbsp;[▽ 補充 ：Generator Object](#Generator-Object)\n",
    "\n",
    "\n",
    "&nbsp;&nbsp;&nbsp;[▲ rGlob ](#rGlob)\n",
    "\n",
    "\n",
    "[1.3 讀檔](#讀取檔案)\n",
    "\n",
    "\n",
    "\n",
    "[1.4 寫檔](#寫檔)\n",
    "\n",
    "\n",
    "[Extra： 陷阱](#Encoding-問題)"
   ]
  },
  {
   "cell_type": "markdown",
   "metadata": {},
   "source": [
    "## 簡單使用\n",
    "\n",
    "\n",
    "- 相較於 os Package ，  pathlib 更為簡易\n",
    "\n",
    "- 傳入 路徑字串\n",
    "\n",
    "\n",
    "- 可簡單將 路徑做串接 、 修改 、 批次抓取"
   ]
  },
  {
   "cell_type": "code",
   "execution_count": null,
   "metadata": {},
   "outputs": [],
   "source": [
    "# 使用 「 ! 」 開頭 可以呼叫 shell & cmd\n",
    "\n",
    "\n",
    "# MacOS / Linux\n",
    "!pwd\n",
    "\n",
    "\n",
    "# Windows\n",
    "!cd"
   ]
  },
  {
   "cell_type": "markdown",
   "metadata": {},
   "source": [
    "### Import 套件\n",
    "\n",
    "\n",
    "```{admonition} 好習慣幫手\n",
    "\n",
    "**Import 寫在最上面  -->  好習慣**\n",
    "\n",
    "~~雖然多寫幾次 import 並不會降低效能~~\n",
    "\n",
    "\n",
    "\n",
    "```\n",
    "[ Back 目錄 ](#目錄)"
   ]
  },
  {
   "cell_type": "code",
   "execution_count": 2,
   "metadata": {},
   "outputs": [],
   "source": [
    "import pathlib"
   ]
  },
  {
   "cell_type": "markdown",
   "metadata": {},
   "source": [
    "### 簡單使用Pathlib\n",
    "\n",
    "\n",
    "傳入路徑字串\n",
    "\n",
    "\n",
    "[ Back 目錄 ](#目錄)"
   ]
  },
  {
   "cell_type": "code",
   "execution_count": 3,
   "metadata": {},
   "outputs": [
    {
     "data": {
      "text/plain": [
       "PosixPath('~')"
      ]
     },
     "execution_count": 3,
     "metadata": {},
     "output_type": "execute_result"
    }
   ],
   "source": [
    "# Linux & Windows 家目錄\n",
    "home = pathlib.Path('~')\n",
    "\n",
    "home\n",
    "\n",
    "# Pathlib Object"
   ]
  },
  {
   "cell_type": "markdown",
   "metadata": {},
   "source": [
    "### 絕對路徑 / 家目錄\n",
    "\n",
    "\n",
    "[ Back 目錄 ](#目錄)"
   ]
  },
  {
   "cell_type": "code",
   "execution_count": 4,
   "metadata": {},
   "outputs": [
    {
     "data": {
      "text/plain": [
       "PosixPath('/Users/fiammahsu/Workplace/Resource/T_Python(各開發測試)/InnerTrainning/PartII/~')"
      ]
     },
     "execution_count": 4,
     "metadata": {},
     "output_type": "execute_result"
    }
   ],
   "source": [
    "# 找到絕對路徑\n",
    "\n",
    "home.absolute()"
   ]
  },
  {
   "cell_type": "markdown",
   "metadata": {},
   "source": [
    "```{note}\n",
    "\n",
    "各 OS 平台預設\n",
    "\n",
    "Linux  -->  /home/[USERNAME]\n",
    "\n",
    "Windwos --> C:\\Users\\[USERNAME]\n",
    "\n",
    "MacOS --> /Users/[USERNAME]\n",
    "\n",
    "\n",
    "```"
   ]
  },
  {
   "cell_type": "code",
   "execution_count": 6,
   "metadata": {},
   "outputs": [
    {
     "data": {
      "text/plain": [
       "False"
      ]
     },
     "execution_count": 6,
     "metadata": {},
     "output_type": "execute_result"
    }
   ],
   "source": [
    "# 檢查路徑是否存在\n",
    "home.exists()  "
   ]
  },
  {
   "cell_type": "code",
   "execution_count": 7,
   "metadata": {},
   "outputs": [
    {
     "name": "stdout",
     "output_type": "stream",
     "text": [
      "原本是 /Users/fiammahsu/Workplace/Resource/T_Python(各開發測試)/InnerTrainning/PartII/~\n",
      "=================\n",
      "變成  /Users/fiammahsu\n"
     ]
    },
    {
     "data": {
      "text/plain": [
       "True"
      ]
     },
     "execution_count": 7,
     "metadata": {},
     "output_type": "execute_result"
    }
   ],
   "source": [
    "# ~ 家目錄 只有 cmd & bash shell 看得懂\n",
    "\n",
    "# 額外處理\n",
    "\n",
    "print('原本是 {}'.format(home.absolute()))\n",
    "\n",
    "print('=================')\n",
    "\n",
    "print('變成  {}'.format(home.expanduser().absolute()))\n",
    "\n",
    "home.expanduser().exists()\n",
    "# True"
   ]
  },
  {
   "cell_type": "code",
   "execution_count": null,
   "metadata": {},
   "outputs": [],
   "source": [
    "# Pathlib Object 相關\n",
    "\n",
    "# Pathlib Object is Immutable\n",
    "\n",
    "# 必須重新 asign 變數\n",
    "\n",
    "print('原本 Home 變數沒有改變 仍然是 : {}'.format(home.absolute()))\n",
    "\n",
    "home = home.expanduser()\n",
    "\n",
    "print('===================')\n",
    "\n",
    "print('現在變了吧 ： {}'.format(home.absolute()))"
   ]
  },
  {
   "cell_type": "markdown",
   "metadata": {},
   "source": [
    "### 路徑串接\n",
    "\n",
    "\n",
    "[ Back 目錄 ](#目錄)"
   ]
  },
  {
   "cell_type": "code",
   "execution_count": null,
   "metadata": {},
   "outputs": [],
   "source": [
    "# 直接用字串\n",
    "\n",
    "work = home / 'Workplace'\n",
    "\n",
    "print('{:>20}: {}'.format('這是串接', work))\n",
    "\n",
    "\n",
    "# '{:>20} : {}'  <-- String Format （將傳入字串往後移動 用空白補）\n",
    "# '{:*>30}'  <--  用 「*」 來補 "
   ]
  },
  {
   "cell_type": "code",
   "execution_count": null,
   "metadata": {},
   "outputs": [],
   "source": [
    "double = home / 'Workplace' / '看我二次串接'\n",
    "\n",
    "print('{:>20}: {}'.format('串接兩次', double))"
   ]
  },
  {
   "cell_type": "code",
   "execution_count": null,
   "metadata": {},
   "outputs": [],
   "source": [
    "p_obj = pathlib.Path('Workplace/Object')\n",
    "\n",
    "ob_to_ob = home / p_obj\n",
    "\n",
    "print('{:>20}: {}'.format('也可以串 pathlib Obj ', ob_to_ob))"
   ]
  },
  {
   "cell_type": "markdown",
   "metadata": {},
   "source": [
    "### MakeDir\n",
    "\n",
    "[ Back 目錄 ](#目錄)"
   ]
  },
  {
   "cell_type": "code",
   "execution_count": null,
   "metadata": {},
   "outputs": [],
   "source": [
    "# 當下路徑 建造兩層資料夾\n",
    "\n",
    "path = pathlib.Path('.') / '子資料夾' / '2子資料夾'\n",
    "\n",
    "path.mkdir()\n",
    "\n",
    "# Raise FileNotFoundError\n",
    "# 因前一層 「 子資料夾尚未創建 」"
   ]
  },
  {
   "cell_type": "code",
   "execution_count": null,
   "metadata": {},
   "outputs": [],
   "source": [
    "# Linux / MacOS  --> mkdir -p\n",
    "\n",
    "# Windows  --> mkdir 本身自帶 -p\n",
    "\n",
    "path.mkdir(parents=True)\n",
    "\n",
    "# 這樣缺少的資料夾就會自動建出"
   ]
  },
  {
   "cell_type": "markdown",
   "metadata": {},
   "source": [
    "## Glob 抓取 File Pattern\n",
    "\n",
    "\n",
    "[ Back 目錄 ](#目錄)"
   ]
  },
  {
   "cell_type": "code",
   "execution_count": null,
   "metadata": {},
   "outputs": [],
   "source": [
    "# MacOS / Linux\n",
    "!ls Script/*.txt\n",
    "\n",
    "\n",
    "# Windows\n",
    "!dir Script/*.txt"
   ]
  },
  {
   "cell_type": "code",
   "execution_count": null,
   "metadata": {},
   "outputs": [],
   "source": [
    "# 知道 Pattern 後 抓取本次範例檔案 （ FET 75 Trinity 正式環境 SQL ）\n",
    "\n",
    "p = pathlib.Path('Script')\n",
    "\n",
    "file_pattern = '*.txt'\n",
    "\n",
    "\n",
    "# Return Generator  --> lazy iterable\n",
    "files = p.glob(file_pattern)\n",
    "files"
   ]
  },
  {
   "cell_type": "markdown",
   "metadata": {},
   "source": [
    "### Generator Object\n",
    "\n",
    "\n",
    "[see StackOverFlow](https://stackoverflow.com/a/20535379)\n",
    "\n",
    "\n",
    "[ Back 目錄 ](#目錄)"
   ]
  },
  {
   "cell_type": "code",
   "execution_count": null,
   "metadata": {},
   "outputs": [],
   "source": [
    "next(files)"
   ]
  },
  {
   "cell_type": "code",
   "execution_count": null,
   "metadata": {},
   "outputs": [],
   "source": [
    "for file in files:\n",
    "    print(file)"
   ]
  },
  {
   "cell_type": "code",
   "execution_count": null,
   "metadata": {},
   "outputs": [],
   "source": [
    "# 對 Generator 執行第二次時\n",
    "\n",
    "for file in files:\n",
    "    print(file)\n",
    "    \n",
    "# 空值"
   ]
  },
  {
   "cell_type": "code",
   "execution_count": null,
   "metadata": {},
   "outputs": [],
   "source": [
    "# 若之後要重複使用 這些檔案的路徑\n",
    "\n",
    "files_list = [file for file in p.glob(file_pattern)]\n",
    "\n",
    "# List Object  --> Already Stored in Memory\n",
    "\n",
    "files_list"
   ]
  },
  {
   "cell_type": "markdown",
   "metadata": {},
   "source": [
    "### rGlob\n",
    "\n",
    "\n",
    "*「 r 」 means recursive*\n",
    "\n",
    "\n",
    "[ Back 目錄 ](#目錄)"
   ]
  },
  {
   "cell_type": "code",
   "execution_count": null,
   "metadata": {},
   "outputs": [],
   "source": [
    "# 遞迴抓取 指定目錄下所有子目錄\n",
    "\n",
    "\n",
    "p = pathlib.Path('Script')\n",
    "\n",
    "file_pattern = '*.txt'\n",
    "\n",
    "\n",
    "\n",
    "# Return Generator  --> lazy iterable\n",
    "files_list_a = [file for file in p.rglob(file_pattern)]\n",
    "\n",
    "files_list_a"
   ]
  },
  {
   "cell_type": "code",
   "execution_count": null,
   "metadata": {},
   "outputs": [],
   "source": [
    "# 這樣也是一樣的\n",
    "files_list_b = [file for file in p.glob('**/' + file_pattern)]\n",
    "\n",
    "files_list_b == files_list_a"
   ]
  },
  {
   "cell_type": "markdown",
   "metadata": {},
   "source": [
    "## 讀取檔案\n",
    "\n",
    "\n",
    "[ Back 目錄 ](#目錄)"
   ]
  },
  {
   "cell_type": "code",
   "execution_count": null,
   "metadata": {},
   "outputs": [],
   "source": [
    "f = open(files_list[0])\n",
    "\n",
    "# TextIOWrapper\n",
    "f"
   ]
  },
  {
   "cell_type": "code",
   "execution_count": null,
   "metadata": {},
   "outputs": [],
   "source": [
    "# 讀取內容\n",
    "f = open(files_list[0])\n",
    "\n",
    "content = f.read()\n",
    "\n",
    "print('content  -->  type 為 {}'.format(type(content)))\n",
    "f.close()\n",
    "content  # return whole file as STRING"
   ]
  },
  {
   "cell_type": "code",
   "execution_count": null,
   "metadata": {},
   "outputs": [],
   "source": [
    "# 一行一行讀取\n",
    "\n",
    "content_list = content.split('\\n')\n",
    "\n",
    "print('一行一行讀 type : {}'.format(type(content_list)))\n",
    "\n",
    "content_list"
   ]
  },
  {
   "cell_type": "code",
   "execution_count": null,
   "metadata": {},
   "outputs": [],
   "source": [
    "# 也可以直接在讀取時 一行一行讀\n",
    "\n",
    "f = open(files_list[0])\n",
    "\n",
    "content = f.readlines()\n",
    "\n",
    "print('content  -->  type 為 {}'.format(type(content)))\n",
    "f.close()\n",
    "content  # return whole file as List Split by 「 linebreak 」"
   ]
  }
 ],
 "metadata": {
  "jupytext": {
   "cell_metadata_filter": "hide_output"
  },
  "kernelspec": {
   "display_name": "Python 3",
   "language": "python",
   "name": "python3"
  },
  "language_info": {
   "codemirror_mode": {
    "name": "ipython",
    "version": 3
   },
   "file_extension": ".py",
   "mimetype": "text/x-python",
   "name": "python",
   "nbconvert_exporter": "python",
   "pygments_lexer": "ipython3",
   "version": "3.9.4"
  },
  "toc": {
   "base_numbering": 1,
   "nav_menu": {},
   "number_sections": true,
   "sideBar": true,
   "skip_h1_title": false,
   "title_cell": "Table of Contents",
   "title_sidebar": "Contents",
   "toc_cell": false,
   "toc_position": {},
   "toc_section_display": true,
   "toc_window_display": true
  },
  "varInspector": {
   "cols": {
    "lenName": 16,
    "lenType": 16,
    "lenVar": 40
   },
   "kernels_config": {
    "python": {
     "delete_cmd_postfix": "",
     "delete_cmd_prefix": "del ",
     "library": "var_list.py",
     "varRefreshCmd": "print(var_dic_list())"
    },
    "r": {
     "delete_cmd_postfix": ") ",
     "delete_cmd_prefix": "rm(",
     "library": "var_list.r",
     "varRefreshCmd": "cat(var_dic_list()) "
    }
   },
   "types_to_exclude": [
    "module",
    "function",
    "builtin_function_or_method",
    "instance",
    "_Feature"
   ],
   "window_display": false
  }
 },
 "nbformat": 4,
 "nbformat_minor": 4
}
