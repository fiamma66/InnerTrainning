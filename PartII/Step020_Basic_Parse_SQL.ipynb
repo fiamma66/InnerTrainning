{
 "cells": [
  {
   "cell_type": "markdown",
   "metadata": {},
   "source": [
    "# 目錄\n",
    "\n",
    "\n",
    "## [STEP01 讀檔案](#STEP1-讀檔案)\n",
    "\n",
    "\n",
    "## [STEP02 Parse \"FROM\" Statement](#STEP2-Parse-\"FROM\"-Statement)"
   ]
  },
  {
   "cell_type": "markdown",
   "metadata": {},
   "source": [
    "# STEP1 讀檔案"
   ]
  },
  {
   "cell_type": "markdown",
   "metadata": {},
   "source": [
    "# Import Package"
   ]
  },
  {
   "cell_type": "code",
   "execution_count": null,
   "metadata": {},
   "outputs": [],
   "source": [
    "import pathlib\n",
    "import re\n"
   ]
  },
  {
   "cell_type": "markdown",
   "metadata": {},
   "source": [
    "# Script File 在 本機的位置"
   ]
  },
  {
   "cell_type": "code",
   "execution_count": null,
   "metadata": {},
   "outputs": [],
   "source": [
    "\n",
    "# Script 檔案所在資料夾\n",
    "path = 'Script/DWSCRIPT'\n",
    "\n",
    "# 要抓取的檔案 全部都是 .txt 為副檔名\n",
    "# File Pattern \n",
    "file_pattern = '*.txt'\n",
    "\n"
   ]
  },
  {
   "cell_type": "markdown",
   "metadata": {},
   "source": [
    "# 檢查路徑是否正確"
   ]
  },
  {
   "cell_type": "code",
   "execution_count": null,
   "metadata": {},
   "outputs": [],
   "source": [
    "\n",
    "# 將 STRING 轉換成 PATH OBJECT\n",
    "p = pathlib.Path(path)\n",
    "\n",
    "# 檢查路徑是否正確\n",
    "p.exists()"
   ]
  },
  {
   "cell_type": "markdown",
   "metadata": {},
   "source": [
    "# 抓檔"
   ]
  },
  {
   "cell_type": "code",
   "execution_count": null,
   "metadata": {},
   "outputs": [],
   "source": [
    "\n",
    "# 路徑確定正確後\n",
    "# 要來抓檔了\n",
    "\n",
    "# 以 副檔名皆為 .txt 來抓取\n",
    "files = p.glob(file_pattern)\n",
    "\n",
    "files = [f for f in files]\n",
    "\n",
    "for f in files:\n",
    "    print(f)"
   ]
  },
  {
   "cell_type": "markdown",
   "metadata": {},
   "source": [
    "# STEP2 Parse \"FROM\" Statement"
   ]
  },
  {
   "cell_type": "code",
   "execution_count": null,
   "metadata": {},
   "outputs": [],
   "source": [
    "\n",
    "# 先只讀取一個檔案\n",
    "\n",
    "target_file = files[0]\n",
    "\n",
    "f = open(target_file, 'r')\n",
    "\n",
    "content = f.read()\n",
    "\n",
    "f.close()\n",
    "\n",
    "\n",
    "# 檢查是否關閉資源\n",
    "f.closed"
   ]
  },
  {
   "cell_type": "code",
   "execution_count": null,
   "metadata": {},
   "outputs": [],
   "source": [
    "\n",
    "# 看一下檔案是否正常\n",
    "\n",
    "content"
   ]
  },
  {
   "cell_type": "markdown",
   "metadata": {},
   "source": [
    "\n",
    "## 主要邏輯： \n",
    "\n",
    "- 理論上 寫 SQL 的人 應該會遵循這樣的寫法 \n",
    "\n",
    "```sql\n",
    "\n",
    "SELECT * FROM TABLENAME\n",
    "\n",
    "-- 或是\n",
    "\n",
    "SELECT *\n",
    "FROM TABLENAME\n",
    "\n",
    "-- 當然 也有不講武德的\n",
    "\n",
    "SELECT *\n",
    "FROM\n",
    "TABLENAME \n",
    "```\n",
    "~~`↑這種人 我勸他浩子尾汁`~~\n",
    "\n",
    "***這種之後再來看***\n",
    "\n",
    "\n",
    "\n",
    "\n",
    "\n",
    "- 我們要 Parse 的 是 FROM 後面的 TABLENAME\n",
    "\n",
    "\n",
    "- --> 一行一行 來看 我們只要找到 FROM關鍵字 就好\n"
   ]
  },
  {
   "cell_type": "code",
   "execution_count": null,
   "metadata": {},
   "outputs": [],
   "source": [
    "# 把 檔案內容一行一行切開\n",
    "content = content.split('\\n')\n",
    "\n",
    "\n",
    "# 也可以在讀檔時 就一行一行切開\n",
    "# 每一行仍會保留 \\n\n",
    "f = open(target_file, 'r')\n",
    "\n",
    "# 改成 readlines\n",
    "content_p = f.readlines()\n",
    "\n",
    "f.close()\n"
   ]
  },
  {
   "cell_type": "code",
   "execution_count": null,
   "metadata": {},
   "outputs": [],
   "source": [
    "# anonymous function Lambda\n",
    "\n",
    "# 常搭配 map 一起使用  -->  map(FUNCTION, OBJECT)\n",
    "# 讓傳入的 object 套用 傳入的 function\n",
    "\n",
    "# 去除 readlines() 留下的 換行符號 \\n\n",
    "content == list(map(lambda x: x.replace('\\n', ''), content_p))"
   ]
  },
  {
   "cell_type": "code",
   "execution_count": null,
   "metadata": {},
   "outputs": [],
   "source": [
    "for line in content:\n",
    "    \n",
    "    \n",
    "    # 找到 FROM 關鍵字\n",
    "    # 從 FROM 關鍵字後 下一個關鍵字通常就是 Table Name\n",
    "    if 'FROM' in line:\n",
    "        print('====================')\n",
    "        mess = line[line.find('FROM'):].replace(\";\",\"\").lstrip()\n",
    "        print('有 FROM')\n",
    "        \n",
    "        print(mess)\n",
    "        # FROM ${ROOTDB}.TABLES\n",
    "        \n",
    "        print('--------------')\n",
    "        \n",
    "        # 以空白切割 FROM TABLE\n",
    "        table = mess.split()[1]  # 切割後第二個位置的字串\n",
    "        print('Extract Table : {}'.format(table))\n",
    "        \n",
    "        \n",
    "    "
   ]
  },
  {
   "cell_type": "markdown",
   "metadata": {},
   "source": [
    "# 試著找看看  JOIN  關鍵字"
   ]
  },
  {
   "cell_type": "code",
   "execution_count": null,
   "metadata": {},
   "outputs": [],
   "source": [
    "target_file = files[12]\n",
    "\n",
    "# 如果有 Encoding 問題\n",
    "# 換成 BIG5 OR UTF8 看看\n",
    "f = open(target_file, 'r', encoding='BIG5')\n",
    "\n",
    "content = f.read()\n",
    "\n",
    "f.close()\n",
    "\n",
    "content = content.split('\\n')\n"
   ]
  },
  {
   "cell_type": "markdown",
   "metadata": {},
   "source": [
    "## 試著加入 檔案的行數  可以回檔案確認是否正確"
   ]
  },
  {
   "cell_type": "code",
   "execution_count": null,
   "metadata": {},
   "outputs": [],
   "source": [
    "\n",
    "# enumerate  -->  for loop 同時 return 計數\n",
    "for i, line in enumerate(content):\n",
    "    \n",
    "    \n",
    "    # 找到 FROM 關鍵字\n",
    "    # 從 FROM 關鍵字後 下一個關鍵字通常就是 Table Name\n",
    "    if 'JOIN' in line:\n",
    "        print('====================')\n",
    "        mess = line[line.find('JOIN'):].replace(\";\",\"\").lstrip()\n",
    "        print('第 {} 行 有 JOIN'.format(i + 1))\n",
    "        \n",
    "        print(mess)\n",
    "        # FROM ${ROOTDB}.TABLES\n",
    "        \n",
    "        print('--------------')\n",
    "        \n",
    "        # 以空白切割 FROM TABLE\n",
    "        table = mess.split()[1]  # 切割後第二個位置的字串\n",
    "        print('Extract Table : {}'.format(table))"
   ]
  }
 ],
 "metadata": {
  "kernelspec": {
   "display_name": "Python 3",
   "language": "python",
   "name": "python3"
  },
  "language_info": {
   "codemirror_mode": {
    "name": "ipython",
    "version": 3
   },
   "file_extension": ".py",
   "mimetype": "text/x-python",
   "name": "python",
   "nbconvert_exporter": "python",
   "pygments_lexer": "ipython3",
   "version": "3.9.1"
  }
 },
 "nbformat": 4,
 "nbformat_minor": 4
}
