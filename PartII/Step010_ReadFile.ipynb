{
 "cells": [
  {
   "cell_type": "markdown",
   "metadata": {},
   "source": [
    "# STEP01 Reading File"
   ]
  },
  {
   "cell_type": "markdown",
   "metadata": {},
   "source": [
    "----------------\n",
    "\n",
    "小秘訣區\n",
    "\n",
    "1. Jupyter-NoteBook 各個 block 可獨立執行 且執行後的變數 會被儲存\n",
    "\n",
    "2. Shift + Enter ( ⇧ + ↩︎ )  -->  可執行當下的 Block\n",
    "\n",
    "3. CTRL + / ( ⌘ + / )  -->   可註解 / 解開註解\n",
    "\n",
    "4. 使用 ! 開頭  --> 代表 Call CMD / Shell\n",
    "\n",
    "5. Block 下方的結果若太多行 可點旁邊兩下 縮到最小\n",
    "\n",
    "\n",
    "-----------------"
   ]
  },
  {
   "cell_type": "markdown",
   "metadata": {},
   "source": [
    "## Import Package"
   ]
  },
  {
   "cell_type": "code",
   "execution_count": 1,
   "metadata": {},
   "outputs": [],
   "source": [
    "import pathlib"
   ]
  },
  {
   "cell_type": "markdown",
   "metadata": {},
   "source": [
    "## Script File 在 本機的位置"
   ]
  },
  {
   "cell_type": "code",
   "execution_count": 2,
   "metadata": {},
   "outputs": [],
   "source": [
    "# Script 檔案所在資料夾\n",
    "path = 'Script/DWSCRIPT/'\n",
    "\n",
    "# 要抓取的檔案 全部都是 .txt 為副檔名\n",
    "# File Pattern \n",
    "file_pattern = '*.txt'"
   ]
  },
  {
   "cell_type": "markdown",
   "metadata": {},
   "source": [
    "## 檢查路徑是否正確"
   ]
  },
  {
   "cell_type": "code",
   "execution_count": 3,
   "metadata": {},
   "outputs": [
    {
     "data": {
      "text/plain": [
       "True"
      ]
     },
     "execution_count": 3,
     "metadata": {},
     "output_type": "execute_result"
    }
   ],
   "source": [
    "# 將 STRING 轉換成 PATH OBJECT\n",
    "p = pathlib.Path(path)\n",
    "\n",
    "# 檢查路徑是否正確\n",
    "p.exists()"
   ]
  },
  {
   "cell_type": "markdown",
   "metadata": {},
   "source": [
    "## 抓檔"
   ]
  },
  {
   "cell_type": "code",
   "execution_count": 4,
   "metadata": {
    "tags": [
     "hide-output",
     "show-input"
    ]
   },
   "outputs": [
    {
     "name": "stdout",
     "output_type": "stream",
     "text": [
      "Script/DWSCRIPT/EDW_PROD RBT_FET RBT_PROVISION_LOG STEP01 sql.txt\n",
      "Script/DWSCRIPT/EDW_PROD RBT_FET RBT_ME2_HISTORYLOG STEP02 sql.txt\n",
      "Script/DWSCRIPT/EDW_PROD ANETWORK T_NTW_RF_IMEI_PRICE STEP0100 sql.txt\n",
      "Script/DWSCRIPT/EDW_PROD RBT_FET RBT_CHOSEN_MUSICBOX STEP01 sql.txt\n",
      "Script/DWSCRIPT/EDW_PROD AOFFER T_M_OFF_SUBSCR_RPS STEP01 sql.txt\n",
      "Script/DWSCRIPT/EDW_PROD EOM FIN_BL_DTL_USG_YYYYMM STEP01 sql.txt\n",
      "Script/DWSCRIPT/EDW_PROD RBT_FET RF_RBT_CATG STEP01 sql.txt\n",
      "Script/DWSCRIPT/EDW_PROD AFINANCE T_FIN_BL_PP_RECHRG_NC STEP02 sql.txt\n",
      "Script/DWSCRIPT/EDW_PROD RBT_FET RBT_GIFT_LIST STEP02 sql.txt\n",
      "Script/DWSCRIPT/EDW_PROD REPORT_MONTHLY SR233168_VIP_GEN STEP0300 sql.txt\n",
      "Script/DWSCRIPT/EDW_PROD AOFFER T_OFF_SUBSCR_CHANNEL STEP010 sql.txt\n",
      "Script/DWSCRIPT/EDW_PROD EOM FIN_BL_DTL_RC_YYYYMM STEP01 sql.txt\n",
      "Script/DWSCRIPT/EDW_PROD RBT_FET RBT_ME2_HISTORYLOG STEP03 sql.txt\n",
      "Script/DWSCRIPT/EDW_PROD RBT_FET RF_RBT_ACTION STEP02 sql.txt\n",
      "Script/DWSCRIPT/EDW_PROD REPORT_MONTHLY SR233168_VIP_GEN STEP0050 sql.txt\n",
      "Script/DWSCRIPT/EDW_PROD RBT_FET RBT_CHOSEN_MUSICBOX STEP02 sql.txt\n",
      "Script/DWSCRIPT/EDW_PROD AFINANCE T_FIN_BL_PP_RECHRG_NC STEP01 sql.txt\n",
      "Script/DWSCRIPT/EDW_PROD RBT_FET RF_RBT_CATG STEP02 sql.txt\n",
      "Script/DWSCRIPT/EDW_PROD RBT_FET RBT_ME2_HISTORYLOG STEP01 sql.txt\n",
      "Script/DWSCRIPT/EDW_PROD AOFFER M_OFF_SUBSCR_VIP_REG STEP0100 sql.txt\n",
      "Script/DWSCRIPT/EDW_PROD RBT_FET RBT_PROVISION_LOG STEP02 sql.txt\n",
      "Script/DWSCRIPT/EDW_PROD REPORT_MONTHLY SR233168_VIP_GEN STEP0200 sql.txt\n",
      "Script/DWSCRIPT/EDW_PROD RBT_FET RF_RBT_ACTION STEP01 sql.txt\n",
      "Script/DWSCRIPT/EDW_PROD RBT_FET RBT_GIFT_LIST STEP01 sql.txt\n",
      "Script/DWSCRIPT/EDW_PROD AOFFER M_OFF_SUBSCR_VIP_REG STEP0150 sql.txt\n",
      "Script/DWSCRIPT/EDW_PROD RBT_FET RF_RBT_PROVIDER STEP01 sql.txt\n",
      "Script/DWSCRIPT/EDW_PROD RBT_FET RF_RBT_LANG STEP01 sql.txt\n",
      "Script/DWSCRIPT/EDW_PROD RBT_FET RBT_CHOSEN_MUSICBOX_DETAIL STEP02 sql.txt\n",
      "Script/DWSCRIPT/EDW_PROD AOFFER T_M_OFF_SUBSCR_GA_CHANNEL STEP01 sql.txt\n",
      "Script/DWSCRIPT/EDW_PROD EOM SUBSCR_PP_BALANCE_MLY_YYYYMM STEP01 sql.txt\n",
      "Script/DWSCRIPT/EDW_PROD RBT_FET RF_RBT_SONG STEP02 sql.txt\n",
      "Script/DWSCRIPT/EDW_PROD AOFFER T_OFF_SUBSCR_CHANNEL STEP020 sql.txt\n",
      "Script/DWSCRIPT/EDW_PROD AOFFER T_OFF_RF_SRV_TYPE STEP01 sql.txt\n",
      "Script/DWSCRIPT/EDW_PROD AFINANCE T_FIN_BL_PP_ADJ_NC STEP01 sql.txt\n",
      "Script/DWSCRIPT/EDW_PROD AOFFER T_M_OFF_SUBSCR_RENEW_CHANNEL STEP01 sql.txt\n",
      "Script/DWSCRIPT/EDW_PROD RBT_FET RBT_SUBSCRIBER STEP01 sql.txt\n",
      "Script/DWSCRIPT/EDW_PROD REPORT_MONTHLY SR233168_VIP_GEN STEP0100 sql.txt\n",
      "Script/DWSCRIPT/EDW_PROD EOM FIN_BL_DTL_NRC_YYYYMM STEP01 sql.txt\n",
      "Script/DWSCRIPT/EDW_PROD REPORT_MONTHLY SR233168_VIP_CLOSE STEP0100 sql.txt\n",
      "Script/DWSCRIPT/EDW_PROD AOFFER M_OFF_SUBSCR_VIP_REG STEP0050 sql.txt\n",
      "Script/DWSCRIPT/EDW_PROD RBT_FET RF_RBT_SONG STEP01 sql.txt\n",
      "Script/DWSCRIPT/EDW_PROD EOM M_NTW_GPRS_CDR_AGGR_YYYYMM STEP01 sql.txt\n",
      "Script/DWSCRIPT/EDW_PROD ANETWORK T_NTW_RF_IMEI_PRICE STEP0200 sql.txt\n",
      "Script/DWSCRIPT/EDW_PROD RBT_FET RBT_CHOSEN_MUSICBOX_DETAIL STEP01 sql.txt\n",
      "Script/DWSCRIPT/EDW_PROD RBT_FET RF_RBT_LANG STEP02 sql.txt\n",
      "Script/DWSCRIPT/EDW_PROD RBT_FET RF_RBT_PROVIDER STEP02 sql.txt\n",
      "Script/DWSCRIPT/EDW_PROD EOM FIN_BL_PYMT_YYYYMM STEP01 sql.txt\n",
      "Script/DWSCRIPT/EDW_PROD AFINANCE T_FIN_BL_PP_ADJ_NC STEP02 sql.txt\n",
      "Script/DWSCRIPT/EDW_PROD RBT_FET RBT_SUBSCRIBER STEP02 sql.txt\n",
      "Script/DWSCRIPT/EDW_PROD EOM FIN_BL_DTL_RATING_DISC_YYYYMM STEP01 sql.txt\n"
     ]
    }
   ],
   "source": [
    "# 路徑確定正確後\n",
    "# 要來抓檔了\n",
    "\n",
    "# 以 副檔名皆為 .txt 來抓取\n",
    "files = p.glob(file_pattern)\n",
    "\n",
    "files = [f for f in files]\n",
    "\n",
    "for f in files:\n",
    "    print(f)"
   ]
  },
  {
   "cell_type": "code",
   "execution_count": null,
   "metadata": {},
   "outputs": [],
   "source": []
  }
 ],
 "metadata": {
  "jupytext": {
   "cell_metadata_filter": "hide_output"
  },
  "kernelspec": {
   "display_name": "Python 3",
   "language": "python",
   "name": "python3"
  },
  "language_info": {
   "codemirror_mode": {
    "name": "ipython",
    "version": 3
   },
   "file_extension": ".py",
   "mimetype": "text/x-python",
   "name": "python",
   "nbconvert_exporter": "python",
   "pygments_lexer": "ipython3",
   "version": "3.9.4"
  },
  "toc": {
   "base_numbering": 1,
   "nav_menu": {},
   "number_sections": true,
   "sideBar": true,
   "skip_h1_title": false,
   "title_cell": "Table of Contents",
   "title_sidebar": "Contents",
   "toc_cell": false,
   "toc_position": {},
   "toc_section_display": true,
   "toc_window_display": true
  },
  "varInspector": {
   "cols": {
    "lenName": 16,
    "lenType": 16,
    "lenVar": 40
   },
   "kernels_config": {
    "python": {
     "delete_cmd_postfix": "",
     "delete_cmd_prefix": "del ",
     "library": "var_list.py",
     "varRefreshCmd": "print(var_dic_list())"
    },
    "r": {
     "delete_cmd_postfix": ") ",
     "delete_cmd_prefix": "rm(",
     "library": "var_list.r",
     "varRefreshCmd": "cat(var_dic_list()) "
    }
   },
   "types_to_exclude": [
    "module",
    "function",
    "builtin_function_or_method",
    "instance",
    "_Feature"
   ],
   "window_display": false
  }
 },
 "nbformat": 4,
 "nbformat_minor": 4
}
